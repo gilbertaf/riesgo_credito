{
 "cells": [
  {
   "cell_type": "code",
   "execution_count": 1,
   "metadata": {},
   "outputs": [],
   "source": [
    "import pandas as pd\n",
    "import numpy as np\n",
    "from sklearn.linear_model import LogisticRegression\n",
    "from imblearn.over_sampling import SMOTE\n",
    "from sklearn.model_selection import train_test_split\n",
    "#from scikitplot.metrics import plot_ks_statistic\n",
    "from sklearn.metrics import confusion_matrix, roc_auc_score, roc_curve, classification_report, ConfusionMatrixDisplay, f1_score, recall_score\n",
    "import matplotlib.pyplot as plt\n",
    "import warnings\n",
    "warnings.filterwarnings(\"ignore\")"
   ]
  },
  {
   "cell_type": "code",
   "execution_count": 2,
   "metadata": {},
   "outputs": [],
   "source": [
    "credit = pd.read_excel('credit_data.xlsx')"
   ]
  },
  {
   "cell_type": "code",
   "execution_count": 3,
   "metadata": {},
   "outputs": [
    {
     "data": {
      "text/html": [
       "<div>\n",
       "<style scoped>\n",
       "    .dataframe tbody tr th:only-of-type {\n",
       "        vertical-align: middle;\n",
       "    }\n",
       "\n",
       "    .dataframe tbody tr th {\n",
       "        vertical-align: top;\n",
       "    }\n",
       "\n",
       "    .dataframe thead th {\n",
       "        text-align: right;\n",
       "    }\n",
       "</style>\n",
       "<table border=\"1\" class=\"dataframe\">\n",
       "  <thead>\n",
       "    <tr style=\"text-align: right;\">\n",
       "      <th></th>\n",
       "      <th>Age</th>\n",
       "      <th>Sex</th>\n",
       "      <th>Job</th>\n",
       "      <th>Housing</th>\n",
       "      <th>Saving accounts</th>\n",
       "      <th>Checking account</th>\n",
       "      <th>Credit amount</th>\n",
       "      <th>Duration</th>\n",
       "      <th>Purpose</th>\n",
       "      <th>Risk</th>\n",
       "    </tr>\n",
       "  </thead>\n",
       "  <tbody>\n",
       "    <tr>\n",
       "      <th>0</th>\n",
       "      <td>67</td>\n",
       "      <td>male</td>\n",
       "      <td>2</td>\n",
       "      <td>own</td>\n",
       "      <td>NaN</td>\n",
       "      <td>little</td>\n",
       "      <td>1169</td>\n",
       "      <td>6</td>\n",
       "      <td>radio/TV</td>\n",
       "      <td>good</td>\n",
       "    </tr>\n",
       "    <tr>\n",
       "      <th>1</th>\n",
       "      <td>22</td>\n",
       "      <td>female</td>\n",
       "      <td>2</td>\n",
       "      <td>own</td>\n",
       "      <td>little</td>\n",
       "      <td>moderate</td>\n",
       "      <td>5951</td>\n",
       "      <td>48</td>\n",
       "      <td>radio/TV</td>\n",
       "      <td>bad</td>\n",
       "    </tr>\n",
       "    <tr>\n",
       "      <th>2</th>\n",
       "      <td>49</td>\n",
       "      <td>male</td>\n",
       "      <td>1</td>\n",
       "      <td>own</td>\n",
       "      <td>little</td>\n",
       "      <td>NaN</td>\n",
       "      <td>2096</td>\n",
       "      <td>12</td>\n",
       "      <td>education</td>\n",
       "      <td>good</td>\n",
       "    </tr>\n",
       "    <tr>\n",
       "      <th>3</th>\n",
       "      <td>45</td>\n",
       "      <td>male</td>\n",
       "      <td>2</td>\n",
       "      <td>free</td>\n",
       "      <td>little</td>\n",
       "      <td>little</td>\n",
       "      <td>7882</td>\n",
       "      <td>42</td>\n",
       "      <td>furniture/equipment</td>\n",
       "      <td>good</td>\n",
       "    </tr>\n",
       "    <tr>\n",
       "      <th>4</th>\n",
       "      <td>53</td>\n",
       "      <td>male</td>\n",
       "      <td>2</td>\n",
       "      <td>free</td>\n",
       "      <td>little</td>\n",
       "      <td>little</td>\n",
       "      <td>4870</td>\n",
       "      <td>24</td>\n",
       "      <td>car</td>\n",
       "      <td>bad</td>\n",
       "    </tr>\n",
       "  </tbody>\n",
       "</table>\n",
       "</div>"
      ],
      "text/plain": [
       "   Age     Sex  Job Housing Saving accounts Checking account  Credit amount  \\\n",
       "0   67    male    2     own             NaN           little           1169   \n",
       "1   22  female    2     own          little         moderate           5951   \n",
       "2   49    male    1     own          little              NaN           2096   \n",
       "3   45    male    2    free          little           little           7882   \n",
       "4   53    male    2    free          little           little           4870   \n",
       "\n",
       "   Duration              Purpose  Risk  \n",
       "0         6             radio/TV  good  \n",
       "1        48             radio/TV   bad  \n",
       "2        12            education  good  \n",
       "3        42  furniture/equipment  good  \n",
       "4        24                  car   bad  "
      ]
     },
     "execution_count": 3,
     "metadata": {},
     "output_type": "execute_result"
    }
   ],
   "source": [
    "credit.head()"
   ]
  },
  {
   "cell_type": "code",
   "execution_count": 4,
   "metadata": {},
   "outputs": [
    {
     "name": "stdout",
     "output_type": "stream",
     "text": [
      "<class 'pandas.core.frame.DataFrame'>\n",
      "RangeIndex: 1000 entries, 0 to 999\n",
      "Data columns (total 10 columns):\n",
      " #   Column            Non-Null Count  Dtype \n",
      "---  ------            --------------  ----- \n",
      " 0   Age               1000 non-null   int64 \n",
      " 1   Sex               1000 non-null   object\n",
      " 2   Job               1000 non-null   int64 \n",
      " 3   Housing           1000 non-null   object\n",
      " 4   Saving accounts   817 non-null    object\n",
      " 5   Checking account  606 non-null    object\n",
      " 6   Credit amount     1000 non-null   int64 \n",
      " 7   Duration          1000 non-null   int64 \n",
      " 8   Purpose           1000 non-null   object\n",
      " 9   Risk              1000 non-null   object\n",
      "dtypes: int64(4), object(6)\n",
      "memory usage: 78.2+ KB\n"
     ]
    }
   ],
   "source": [
    "credit.info()"
   ]
  },
  {
   "cell_type": "code",
   "execution_count": 5,
   "metadata": {},
   "outputs": [],
   "source": [
    "credit['Job_des'] = credit['Job'].map({0:'unskilled_no_resident',1:'unskilled_resident',2:'skilled',3:'highly_skilled'})"
   ]
  },
  {
   "cell_type": "code",
   "execution_count": 6,
   "metadata": {},
   "outputs": [
    {
     "data": {
      "text/html": [
       "<div>\n",
       "<style scoped>\n",
       "    .dataframe tbody tr th:only-of-type {\n",
       "        vertical-align: middle;\n",
       "    }\n",
       "\n",
       "    .dataframe tbody tr th {\n",
       "        vertical-align: top;\n",
       "    }\n",
       "\n",
       "    .dataframe thead th {\n",
       "        text-align: right;\n",
       "    }\n",
       "</style>\n",
       "<table border=\"1\" class=\"dataframe\">\n",
       "  <thead>\n",
       "    <tr style=\"text-align: right;\">\n",
       "      <th>Saving accounts</th>\n",
       "      <th>little</th>\n",
       "      <th>moderate</th>\n",
       "      <th>quite rich</th>\n",
       "      <th>rich</th>\n",
       "    </tr>\n",
       "    <tr>\n",
       "      <th>Risk</th>\n",
       "      <th></th>\n",
       "      <th></th>\n",
       "      <th></th>\n",
       "      <th></th>\n",
       "    </tr>\n",
       "  </thead>\n",
       "  <tbody>\n",
       "    <tr>\n",
       "      <th>bad</th>\n",
       "      <td>217</td>\n",
       "      <td>34</td>\n",
       "      <td>11</td>\n",
       "      <td>6</td>\n",
       "    </tr>\n",
       "    <tr>\n",
       "      <th>good</th>\n",
       "      <td>386</td>\n",
       "      <td>69</td>\n",
       "      <td>52</td>\n",
       "      <td>42</td>\n",
       "    </tr>\n",
       "  </tbody>\n",
       "</table>\n",
       "</div>"
      ],
      "text/plain": [
       "Saving accounts  little  moderate  quite rich  rich\n",
       "Risk                                               \n",
       "bad                 217        34          11     6\n",
       "good                386        69          52    42"
      ]
     },
     "execution_count": 6,
     "metadata": {},
     "output_type": "execute_result"
    }
   ],
   "source": [
    "credit.pivot_table(index='Risk',columns='Saving accounts', values='Job_des',aggfunc='count')"
   ]
  },
  {
   "cell_type": "code",
   "execution_count": 7,
   "metadata": {},
   "outputs": [
    {
     "data": {
      "text/html": [
       "<div>\n",
       "<style scoped>\n",
       "    .dataframe tbody tr th:only-of-type {\n",
       "        vertical-align: middle;\n",
       "    }\n",
       "\n",
       "    .dataframe tbody tr th {\n",
       "        vertical-align: top;\n",
       "    }\n",
       "\n",
       "    .dataframe thead th {\n",
       "        text-align: right;\n",
       "    }\n",
       "</style>\n",
       "<table border=\"1\" class=\"dataframe\">\n",
       "  <thead>\n",
       "    <tr style=\"text-align: right;\">\n",
       "      <th>Checking account</th>\n",
       "      <th>little</th>\n",
       "      <th>moderate</th>\n",
       "      <th>rich</th>\n",
       "    </tr>\n",
       "    <tr>\n",
       "      <th>Risk</th>\n",
       "      <th></th>\n",
       "      <th></th>\n",
       "      <th></th>\n",
       "    </tr>\n",
       "  </thead>\n",
       "  <tbody>\n",
       "    <tr>\n",
       "      <th>bad</th>\n",
       "      <td>135</td>\n",
       "      <td>105</td>\n",
       "      <td>14</td>\n",
       "    </tr>\n",
       "    <tr>\n",
       "      <th>good</th>\n",
       "      <td>139</td>\n",
       "      <td>164</td>\n",
       "      <td>49</td>\n",
       "    </tr>\n",
       "  </tbody>\n",
       "</table>\n",
       "</div>"
      ],
      "text/plain": [
       "Checking account  little  moderate  rich\n",
       "Risk                                    \n",
       "bad                  135       105    14\n",
       "good                 139       164    49"
      ]
     },
     "execution_count": 7,
     "metadata": {},
     "output_type": "execute_result"
    }
   ],
   "source": [
    "credit.pivot_table(index='Risk',columns='Checking account', values='Job_des',aggfunc='count')"
   ]
  },
  {
   "cell_type": "code",
   "execution_count": 8,
   "metadata": {},
   "outputs": [],
   "source": [
    "credit['Checking account'] = np.where(credit['Checking account'].isnull(),\n",
    "                                          np.where(credit['Risk']=='bad','little','moderate'),\n",
    "                                          credit['Checking account'])"
   ]
  },
  {
   "cell_type": "code",
   "execution_count": 9,
   "metadata": {},
   "outputs": [],
   "source": [
    "credit['Saving accounts'] = np.where(credit['Saving accounts'].isnull(),\n",
    "                                          'little',\n",
    "                                          credit['Saving accounts'])"
   ]
  },
  {
   "cell_type": "code",
   "execution_count": 10,
   "metadata": {},
   "outputs": [
    {
     "name": "stdout",
     "output_type": "stream",
     "text": [
      "<class 'pandas.core.frame.DataFrame'>\n",
      "RangeIndex: 1000 entries, 0 to 999\n",
      "Data columns (total 11 columns):\n",
      " #   Column            Non-Null Count  Dtype \n",
      "---  ------            --------------  ----- \n",
      " 0   Age               1000 non-null   int64 \n",
      " 1   Sex               1000 non-null   object\n",
      " 2   Job               1000 non-null   int64 \n",
      " 3   Housing           1000 non-null   object\n",
      " 4   Saving accounts   1000 non-null   object\n",
      " 5   Checking account  1000 non-null   object\n",
      " 6   Credit amount     1000 non-null   int64 \n",
      " 7   Duration          1000 non-null   int64 \n",
      " 8   Purpose           1000 non-null   object\n",
      " 9   Risk              1000 non-null   object\n",
      " 10  Job_des           1000 non-null   object\n",
      "dtypes: int64(4), object(7)\n",
      "memory usage: 86.1+ KB\n"
     ]
    }
   ],
   "source": [
    "credit.info()"
   ]
  },
  {
   "cell_type": "code",
   "execution_count": 11,
   "metadata": {},
   "outputs": [],
   "source": [
    "cols = list(credit.drop('Risk', axis=1).columns)"
   ]
  },
  {
   "cell_type": "code",
   "execution_count": 12,
   "metadata": {},
   "outputs": [],
   "source": [
    "cat_cols = list(credit[cols].select_dtypes(include='object').columns)"
   ]
  },
  {
   "cell_type": "code",
   "execution_count": 13,
   "metadata": {},
   "outputs": [],
   "source": [
    "credit_2 = credit.copy()"
   ]
  },
  {
   "cell_type": "code",
   "execution_count": 14,
   "metadata": {},
   "outputs": [],
   "source": [
    "def encode_cat(data, columnas_categoricas):\n",
    "    \n",
    "    \n",
    "    for i in columnas_categoricas:\n",
    "        df2 = pd.get_dummies(data[i], prefix=i)\n",
    "        data.drop(i, axis=1,inplace=True)\n",
    "        data = pd.concat([data,df2], axis=1)\n",
    "    return data"
   ]
  },
  {
   "cell_type": "code",
   "execution_count": 15,
   "metadata": {},
   "outputs": [],
   "source": [
    "credit_df = encode_cat(credit_2,cat_cols)"
   ]
  },
  {
   "cell_type": "code",
   "execution_count": 16,
   "metadata": {},
   "outputs": [],
   "source": [
    "X = credit_df.drop(['Risk', 'Job'],axis=1)\n",
    "y = credit_df['Risk']"
   ]
  },
  {
   "cell_type": "code",
   "execution_count": 17,
   "metadata": {},
   "outputs": [],
   "source": [
    "X_train,X_test,y_train,y_test = train_test_split(X,y,test_size=0.3, random_state=111)"
   ]
  },
  {
   "cell_type": "code",
   "execution_count": 18,
   "metadata": {},
   "outputs": [],
   "source": [
    "LG = LogisticRegression()\n",
    "\n",
    "LG.fit(X_train,y_train)\n",
    "\n",
    "pred_lg = LG.predict(X_test)"
   ]
  },
  {
   "cell_type": "code",
   "execution_count": 19,
   "metadata": {},
   "outputs": [
    {
     "name": "stdout",
     "output_type": "stream",
     "text": [
      "              precision    recall  f1-score   support\n",
      "\n",
      "         bad       0.62      0.45      0.52        88\n",
      "        good       0.80      0.88      0.84       212\n",
      "\n",
      "    accuracy                           0.76       300\n",
      "   macro avg       0.71      0.67      0.68       300\n",
      "weighted avg       0.74      0.76      0.74       300\n",
      "\n"
     ]
    }
   ],
   "source": [
    "print(classification_report(y_test,pred_lg))"
   ]
  },
  {
   "cell_type": "code",
   "execution_count": 20,
   "metadata": {},
   "outputs": [
    {
     "data": {
      "image/png": "[encoded data removed]",
      "text/plain": [
       "<Figure size 432x288 with 2 Axes>"
      ]
     },
     "metadata": {
      "needs_background": "light"
     },
     "output_type": "display_data"
    }
   ],
   "source": [
    "cm = confusion_matrix(y_test,pred_lg)\n",
    "ConfusionMatrixDisplay(cm, display_labels = LG.classes_).plot()\n",
    "plt.show()"
   ]
  },
  {
   "cell_type": "code",
   "execution_count": 21,
   "metadata": {},
   "outputs": [],
   "source": [
    "result = []\n",
    "\n",
    "for k in range(2,15):\n",
    "    sm = SMOTE(k_neighbors=k)\n",
    "    X_train_sm, y_train_sm = sm.fit_resample(X_train,y_train)\n",
    "    LG_sm = LogisticRegression()\n",
    "    LG_sm.fit(X_train_sm,y_train_sm)\n",
    "    pred_lg_sm = LG_sm.predict(X_test)\n",
    "    recall_ = recall_score(y_test,pred_lg_sm, pos_label=\"bad\")\n",
    "    f1_ = f1_score(y_test,pred_lg_sm, pos_label=\"bad\")\n",
    "    result.append([recall_,f1_])\n",
    "    "
   ]
  },
  {
   "cell_type": "code",
   "execution_count": 22,
   "metadata": {},
   "outputs": [
    {
     "data": {
      "text/html": [
       "<div>\n",
       "<style scoped>\n",
       "    .dataframe tbody tr th:only-of-type {\n",
       "        vertical-align: middle;\n",
       "    }\n",
       "\n",
       "    .dataframe tbody tr th {\n",
       "        vertical-align: top;\n",
       "    }\n",
       "\n",
       "    .dataframe thead th {\n",
       "        text-align: right;\n",
       "    }\n",
       "</style>\n",
       "<table border=\"1\" class=\"dataframe\">\n",
       "  <thead>\n",
       "    <tr style=\"text-align: right;\">\n",
       "      <th></th>\n",
       "      <th>Recall</th>\n",
       "      <th>F1</th>\n",
       "    </tr>\n",
       "  </thead>\n",
       "  <tbody>\n",
       "    <tr>\n",
       "      <th>0</th>\n",
       "      <td>0.522727</td>\n",
       "      <td>0.557576</td>\n",
       "    </tr>\n",
       "    <tr>\n",
       "      <th>1</th>\n",
       "      <td>0.534091</td>\n",
       "      <td>0.562874</td>\n",
       "    </tr>\n",
       "    <tr>\n",
       "      <th>2</th>\n",
       "      <td>0.522727</td>\n",
       "      <td>0.557576</td>\n",
       "    </tr>\n",
       "    <tr>\n",
       "      <th>3</th>\n",
       "      <td>0.522727</td>\n",
       "      <td>0.557576</td>\n",
       "    </tr>\n",
       "    <tr>\n",
       "      <th>4</th>\n",
       "      <td>0.590909</td>\n",
       "      <td>0.597701</td>\n",
       "    </tr>\n",
       "  </tbody>\n",
       "</table>\n",
       "</div>"
      ],
      "text/plain": [
       "     Recall        F1\n",
       "0  0.522727  0.557576\n",
       "1  0.534091  0.562874\n",
       "2  0.522727  0.557576\n",
       "3  0.522727  0.557576\n",
       "4  0.590909  0.597701"
      ]
     },
     "execution_count": 22,
     "metadata": {},
     "output_type": "execute_result"
    }
   ],
   "source": [
    "result_df = pd.DataFrame(result, columns = ['Recall', 'F1'])\n",
    "\n",
    "result_df.head()"
   ]
  },
  {
   "cell_type": "code",
   "execution_count": 23,
   "metadata": {},
   "outputs": [
    {
     "data": {
      "text/plain": [
       "<AxesSubplot:>"
      ]
     },
     "execution_count": 23,
     "metadata": {},
     "output_type": "execute_result"
    },
    {
     "data": {
      "image/png": "[encoded data removed]",
      "text/plain": [
       "<Figure size 432x288 with 1 Axes>"
      ]
     },
     "metadata": {
      "needs_background": "light"
     },
     "output_type": "display_data"
    }
   ],
   "source": [
    "result_df.plot()"
   ]
  },
  {
   "cell_type": "code",
   "execution_count": 24,
   "metadata": {},
   "outputs": [],
   "source": [
    "sm = SMOTE(k_neighbors=7)\n",
    "X_train_sm, y_train_sm = sm.fit_resample(X_train,y_train)"
   ]
  },
  {
   "cell_type": "code",
   "execution_count": 25,
   "metadata": {},
   "outputs": [],
   "source": [
    "LG_sm = LogisticRegression()\n",
    "\n",
    "LG_sm.fit(X_train_sm,y_train_sm)\n",
    "\n",
    "pred_lg_sm = LG_sm.predict(X_test)"
   ]
  },
  {
   "cell_type": "code",
   "execution_count": 26,
   "metadata": {},
   "outputs": [
    {
     "name": "stdout",
     "output_type": "stream",
     "text": [
      "              precision    recall  f1-score   support\n",
      "\n",
      "         bad       0.58      0.55      0.56        88\n",
      "        good       0.82      0.83      0.83       212\n",
      "\n",
      "    accuracy                           0.75       300\n",
      "   macro avg       0.70      0.69      0.69       300\n",
      "weighted avg       0.75      0.75      0.75       300\n",
      "\n"
     ]
    }
   ],
   "source": [
    "print(classification_report(y_test,pred_lg_sm))"
   ]
  },
  {
   "cell_type": "code",
   "execution_count": 27,
   "metadata": {},
   "outputs": [
    {
     "data": {
      "image/png": "[encoded data removed]",
      "text/plain": [
       "<Figure size 432x288 with 2 Axes>"
      ]
     },
     "metadata": {
      "needs_background": "light"
     },
     "output_type": "display_data"
    }
   ],
   "source": [
    "cm = confusion_matrix(y_test,pred_lg_sm)\n",
    "ConfusionMatrixDisplay(cm, display_labels = LG_sm.classes_).plot()\n",
    "plt.show()"
   ]
  },
  {
   "cell_type": "code",
   "execution_count": 28,
   "metadata": {},
   "outputs": [],
   "source": [
    "df_test = pd.DataFrame()\n",
    "df_test['y_test'] = y_test\n",
    "df_test['predicciones_test'] = LG_sm.predict(X_test)\n",
    "df_test['proba_default_test'] = LG_sm.predict_proba(X_test)[:,0]\n",
    "df_test['proba_no_default_test'] = LG_sm.predict_proba(X_test)[:,1]\n",
    "df_test['predicciones_test'] = df_test['predicciones_test'].map({'bad':0,'good':1})\n",
    "df_test['y_test'] = df_test['y_test'].map({'bad':0,'good':1})"
   ]
  },
  {
   "cell_type": "code",
   "execution_count": 29,
   "metadata": {},
   "outputs": [
    {
     "name": "stdout",
     "output_type": "stream",
     "text": [
      "0.690180102915952\n"
     ]
    }
   ],
   "source": [
    "print(roc_auc_score(df_test['y_test'],df_test['predicciones_test']))"
   ]
  },
  {
   "cell_type": "code",
   "execution_count": 30,
   "metadata": {},
   "outputs": [
    {
     "data": {
      "text/plain": [
       "Text(0.5, 1.0, 'ROC curve')"
      ]
     },
     "execution_count": 30,
     "metadata": {},
     "output_type": "execute_result"
    },
    {
     "data": {
      "image/png": "[encoded data removed]",
      "text/plain": [
       "<Figure size 432x288 with 1 Axes>"
      ]
     },
     "metadata": {
      "needs_background": "light"
     },
     "output_type": "display_data"
    }
   ],
   "source": [
    "fpr, tpr, thresholds = roc_curve(df_test['y_test'], df_test['predicciones_test'])\n",
    "\n",
    "plt.plot(fpr, tpr)\n",
    "plt.plot(fpr, fpr, linestyle = '--', color= 'k')\n",
    "plt.xlabel('False positive rate')\n",
    "plt.ylabel('True positive rate')\n",
    "plt.title('ROC curve')"
   ]
  },
  {
   "cell_type": "code",
   "execution_count": 31,
   "metadata": {},
   "outputs": [
    {
     "data": {
      "text/plain": [
       "Text(0.5, 1.0, 'Gini')"
      ]
     },
     "execution_count": 31,
     "metadata": {},
     "output_type": "execute_result"
    },
    {
     "data": {
      "image/png": "[encoded data removed]",
      "text/plain": [
       "<Figure size 432x288 with 1 Axes>"
      ]
     },
     "metadata": {
      "needs_background": "light"
     },
     "output_type": "display_data"
    }
   ],
   "source": [
    "df_gini_test = df_test[['y_test',\n",
    "                         'proba_no_default_test',\n",
    "                         'predicciones_test']].sort_values(by='proba_no_default_test')\n",
    "\n",
    "df_gini_test = df_gini_test.reset_index()\n",
    "df_gini_test['Cumulative N Population'] = df_gini_test.index + 1\n",
    "df_gini_test['Cumulative N Good'] = df_gini_test['y_test'].cumsum()\n",
    "df_gini_test['Cumulative N Bad'] = df_gini_test['Cumulative N Population'] - df_gini_test['y_test'].cumsum()\n",
    "df_gini_test['Cumulative Perc Population'] = df_gini_test['Cumulative N Population'] / (df_gini_test.shape[0])\n",
    "df_gini_test['Cumulative Perc Good'] = df_gini_test['Cumulative N Good'] / df_gini_test['y_test'].sum()\n",
    "df_gini_test['Cumulative Perc Bad'] = df_gini_test['Cumulative N Bad'] / (df_gini_test.shape[0] - df_gini_test['y_test'].sum())\n",
    "plt.plot(df_gini_test['Cumulative Perc Population'],df_gini_test['Cumulative Perc Bad'])\n",
    "plt.plot(df_gini_test['Cumulative Perc Population'],df_gini_test['Cumulative Perc Population'], linestyle='--', color='k')\n",
    "plt.xlabel('Cumulative % Population')\n",
    "plt.xlabel('Cumulative % Bad')\n",
    "plt.title('Gini')"
   ]
  },
  {
   "cell_type": "code",
   "execution_count": 32,
   "metadata": {},
   "outputs": [
    {
     "name": "stdout",
     "output_type": "stream",
     "text": [
      "0.380360205831904\n"
     ]
    }
   ],
   "source": [
    "Gini_test = (roc_auc_score(df_gini_test['y_test'], df_gini_test['predicciones_test']) * 2) - 1\n",
    "print(Gini_test)"
   ]
  },
  {
   "cell_type": "code",
   "execution_count": 33,
   "metadata": {},
   "outputs": [
    {
     "data": {
      "text/plain": [
       "Text(0.5, 1.0, 'Kolmogorov-Smirnov')"
      ]
     },
     "execution_count": 33,
     "metadata": {},
     "output_type": "execute_result"
    },
    {
     "data": {
      "image/png": "[encoded data removed]",
      "text/plain": [
       "<Figure size 432x288 with 1 Axes>"
      ]
     },
     "metadata": {
      "needs_background": "light"
     },
     "output_type": "display_data"
    }
   ],
   "source": [
    "plt.plot(df_gini_test['proba_no_default_test'], df_gini_test['Cumulative Perc Bad'], color='r')\n",
    "plt.plot(df_gini_test['proba_no_default_test'], df_gini_test['Cumulative Perc Good'], color='b')\n",
    "plt.xlabel('Estimated Probability for being Good')\n",
    "plt.xlabel('Cumulative %')\n",
    "plt.title('Kolmogorov-Smirnov')"
   ]
  },
  {
   "cell_type": "code",
   "execution_count": 34,
   "metadata": {},
   "outputs": [
    {
     "name": "stdout",
     "output_type": "stream",
     "text": [
      "0.4794168096054888\n"
     ]
    }
   ],
   "source": [
    "ks_test = max(df_gini_test['Cumulative Perc Bad'] - df_gini_test['Cumulative Perc Good'])\n",
    "print(ks_test)"
   ]
  },
  {
   "cell_type": "code",
   "execution_count": 35,
   "metadata": {},
   "outputs": [],
   "source": [
    "#plot_ks_statistic(df_test['y_test'], df_test[['proba_default_test','proba_no_default_test']])"
   ]
  },
  {
   "cell_type": "code",
   "execution_count": 36,
   "metadata": {},
   "outputs": [
    {
     "data": {
      "text/html": [
       "<div>\n",
       "<style scoped>\n",
       "    .dataframe tbody tr th:only-of-type {\n",
       "        vertical-align: middle;\n",
       "    }\n",
       "\n",
       "    .dataframe tbody tr th {\n",
       "        vertical-align: top;\n",
       "    }\n",
       "\n",
       "    .dataframe thead th {\n",
       "        text-align: right;\n",
       "    }\n",
       "</style>\n",
       "<table border=\"1\" class=\"dataframe\">\n",
       "  <thead>\n",
       "    <tr style=\"text-align: right;\">\n",
       "      <th></th>\n",
       "      <th>coeficiente</th>\n",
       "      <th>variable</th>\n",
       "    </tr>\n",
       "  </thead>\n",
       "  <tbody>\n",
       "    <tr>\n",
       "      <th>13</th>\n",
       "      <td>1.705635</td>\n",
       "      <td>Checking account_moderate</td>\n",
       "    </tr>\n",
       "    <tr>\n",
       "      <th>4</th>\n",
       "      <td>1.072320</td>\n",
       "      <td>Sex_male</td>\n",
       "    </tr>\n",
       "    <tr>\n",
       "      <th>20</th>\n",
       "      <td>1.017806</td>\n",
       "      <td>Purpose_radio/TV</td>\n",
       "    </tr>\n",
       "    <tr>\n",
       "      <th>23</th>\n",
       "      <td>0.847682</td>\n",
       "      <td>Job_des_highly_skilled</td>\n",
       "    </tr>\n",
       "    <tr>\n",
       "      <th>16</th>\n",
       "      <td>0.818584</td>\n",
       "      <td>Purpose_car</td>\n",
       "    </tr>\n",
       "    <tr>\n",
       "      <th>5</th>\n",
       "      <td>0.604124</td>\n",
       "      <td>Housing_free</td>\n",
       "    </tr>\n",
       "    <tr>\n",
       "      <th>3</th>\n",
       "      <td>0.531510</td>\n",
       "      <td>Sex_female</td>\n",
       "    </tr>\n",
       "    <tr>\n",
       "      <th>7</th>\n",
       "      <td>0.529810</td>\n",
       "      <td>Housing_rent</td>\n",
       "    </tr>\n",
       "    <tr>\n",
       "      <th>6</th>\n",
       "      <td>0.504870</td>\n",
       "      <td>Housing_own</td>\n",
       "    </tr>\n",
       "    <tr>\n",
       "      <th>19</th>\n",
       "      <td>0.463105</td>\n",
       "      <td>Purpose_furniture/equipment</td>\n",
       "    </tr>\n",
       "    <tr>\n",
       "      <th>10</th>\n",
       "      <td>0.456383</td>\n",
       "      <td>Saving accounts_quite rich</td>\n",
       "    </tr>\n",
       "    <tr>\n",
       "      <th>24</th>\n",
       "      <td>0.444202</td>\n",
       "      <td>Job_des_skilled</td>\n",
       "    </tr>\n",
       "    <tr>\n",
       "      <th>14</th>\n",
       "      <td>0.403603</td>\n",
       "      <td>Checking account_rich</td>\n",
       "    </tr>\n",
       "    <tr>\n",
       "      <th>26</th>\n",
       "      <td>0.391032</td>\n",
       "      <td>Job_des_unskilled_resident</td>\n",
       "    </tr>\n",
       "    <tr>\n",
       "      <th>11</th>\n",
       "      <td>0.275741</td>\n",
       "      <td>Saving accounts_rich</td>\n",
       "    </tr>\n",
       "    <tr>\n",
       "      <th>15</th>\n",
       "      <td>0.248786</td>\n",
       "      <td>Purpose_business</td>\n",
       "    </tr>\n",
       "    <tr>\n",
       "      <th>18</th>\n",
       "      <td>0.131382</td>\n",
       "      <td>Purpose_education</td>\n",
       "    </tr>\n",
       "    <tr>\n",
       "      <th>22</th>\n",
       "      <td>0.080401</td>\n",
       "      <td>Purpose_vacation/others</td>\n",
       "    </tr>\n",
       "    <tr>\n",
       "      <th>9</th>\n",
       "      <td>0.050575</td>\n",
       "      <td>Saving accounts_moderate</td>\n",
       "    </tr>\n",
       "    <tr>\n",
       "      <th>25</th>\n",
       "      <td>0.044211</td>\n",
       "      <td>Job_des_unskilled_no_resident</td>\n",
       "    </tr>\n",
       "    <tr>\n",
       "      <th>17</th>\n",
       "      <td>0.029547</td>\n",
       "      <td>Purpose_domestic appliances</td>\n",
       "    </tr>\n",
       "    <tr>\n",
       "      <th>21</th>\n",
       "      <td>0.017431</td>\n",
       "      <td>Purpose_repairs</td>\n",
       "    </tr>\n",
       "    <tr>\n",
       "      <th>1</th>\n",
       "      <td>-0.000157</td>\n",
       "      <td>Credit amount</td>\n",
       "    </tr>\n",
       "    <tr>\n",
       "      <th>0</th>\n",
       "      <td>-0.012721</td>\n",
       "      <td>Age</td>\n",
       "    </tr>\n",
       "    <tr>\n",
       "      <th>2</th>\n",
       "      <td>-0.025785</td>\n",
       "      <td>Duration</td>\n",
       "    </tr>\n",
       "    <tr>\n",
       "      <th>8</th>\n",
       "      <td>-0.352838</td>\n",
       "      <td>Saving accounts_little</td>\n",
       "    </tr>\n",
       "    <tr>\n",
       "      <th>12</th>\n",
       "      <td>-0.384348</td>\n",
       "      <td>Checking account_little</td>\n",
       "    </tr>\n",
       "  </tbody>\n",
       "</table>\n",
       "</div>"
      ],
      "text/plain": [
       "    coeficiente                       variable\n",
       "13     1.705635      Checking account_moderate\n",
       "4      1.072320                       Sex_male\n",
       "20     1.017806               Purpose_radio/TV\n",
       "23     0.847682         Job_des_highly_skilled\n",
       "16     0.818584                    Purpose_car\n",
       "5      0.604124                   Housing_free\n",
       "3      0.531510                     Sex_female\n",
       "7      0.529810                   Housing_rent\n",
       "6      0.504870                    Housing_own\n",
       "19     0.463105    Purpose_furniture/equipment\n",
       "10     0.456383     Saving accounts_quite rich\n",
       "24     0.444202                Job_des_skilled\n",
       "14     0.403603          Checking account_rich\n",
       "26     0.391032     Job_des_unskilled_resident\n",
       "11     0.275741           Saving accounts_rich\n",
       "15     0.248786               Purpose_business\n",
       "18     0.131382              Purpose_education\n",
       "22     0.080401        Purpose_vacation/others\n",
       "9      0.050575       Saving accounts_moderate\n",
       "25     0.044211  Job_des_unskilled_no_resident\n",
       "17     0.029547    Purpose_domestic appliances\n",
       "21     0.017431                Purpose_repairs\n",
       "1     -0.000157                  Credit amount\n",
       "0     -0.012721                            Age\n",
       "2     -0.025785                       Duration\n",
       "8     -0.352838         Saving accounts_little\n",
       "12    -0.384348        Checking account_little"
      ]
     },
     "execution_count": 36,
     "metadata": {},
     "output_type": "execute_result"
    }
   ],
   "source": [
    "coeficientes = pd.DataFrame(LG_sm.coef_).transpose()\n",
    "coeficientes['variables'] = X.columns\n",
    "coeficientes.columns = ['coeficiente', 'variable']\n",
    "coeficientes = coeficientes.sort_values(by='coeficiente',ascending=False)\n",
    "coeficientes"
   ]
  },
  {
   "cell_type": "code",
   "execution_count": 37,
   "metadata": {},
   "outputs": [
    {
     "data": {
      "image/png": "[encoded data removed]",
      "text/plain": [
       "<Figure size 1080x720 with 1 Axes>"
      ]
     },
     "metadata": {
      "needs_background": "light"
     },
     "output_type": "display_data"
    }
   ],
   "source": [
    "impacto = pd.DataFrame()\n",
    "impacto['Variables'] = X.columns\n",
    "impacto['Score'] = pd.DataFrame(LG_sm.coef_).transpose()\n",
    "impacto.sort_values(by='Score',ascending=True).plot(x='Variables',y='Score',kind='barh',figsize=(15, 10))\n",
    "\n",
    "plt.show()"
   ]
  },
  {
   "cell_type": "code",
   "execution_count": 38,
   "metadata": {},
   "outputs": [
    {
     "data": {
      "text/html": [
       "<div>\n",
       "<style scoped>\n",
       "    .dataframe tbody tr th:only-of-type {\n",
       "        vertical-align: middle;\n",
       "    }\n",
       "\n",
       "    .dataframe tbody tr th {\n",
       "        vertical-align: top;\n",
       "    }\n",
       "\n",
       "    .dataframe thead th {\n",
       "        text-align: right;\n",
       "    }\n",
       "</style>\n",
       "<table border=\"1\" class=\"dataframe\">\n",
       "  <thead>\n",
       "    <tr style=\"text-align: right;\">\n",
       "      <th></th>\n",
       "      <th>y_test</th>\n",
       "      <th>predicciones_test</th>\n",
       "      <th>proba_default_test</th>\n",
       "      <th>proba_no_default_test</th>\n",
       "    </tr>\n",
       "  </thead>\n",
       "  <tbody>\n",
       "    <tr>\n",
       "      <th>190</th>\n",
       "      <td>0</td>\n",
       "      <td>0</td>\n",
       "      <td>0.577682</td>\n",
       "      <td>0.422318</td>\n",
       "    </tr>\n",
       "    <tr>\n",
       "      <th>104</th>\n",
       "      <td>1</td>\n",
       "      <td>1</td>\n",
       "      <td>0.087780</td>\n",
       "      <td>0.912220</td>\n",
       "    </tr>\n",
       "    <tr>\n",
       "      <th>295</th>\n",
       "      <td>0</td>\n",
       "      <td>0</td>\n",
       "      <td>0.664891</td>\n",
       "      <td>0.335109</td>\n",
       "    </tr>\n",
       "    <tr>\n",
       "      <th>12</th>\n",
       "      <td>1</td>\n",
       "      <td>1</td>\n",
       "      <td>0.103134</td>\n",
       "      <td>0.896866</td>\n",
       "    </tr>\n",
       "    <tr>\n",
       "      <th>87</th>\n",
       "      <td>0</td>\n",
       "      <td>0</td>\n",
       "      <td>0.585747</td>\n",
       "      <td>0.414253</td>\n",
       "    </tr>\n",
       "    <tr>\n",
       "      <th>...</th>\n",
       "      <td>...</td>\n",
       "      <td>...</td>\n",
       "      <td>...</td>\n",
       "      <td>...</td>\n",
       "    </tr>\n",
       "    <tr>\n",
       "      <th>354</th>\n",
       "      <td>1</td>\n",
       "      <td>1</td>\n",
       "      <td>0.068912</td>\n",
       "      <td>0.931088</td>\n",
       "    </tr>\n",
       "    <tr>\n",
       "      <th>831</th>\n",
       "      <td>0</td>\n",
       "      <td>0</td>\n",
       "      <td>0.553260</td>\n",
       "      <td>0.446740</td>\n",
       "    </tr>\n",
       "    <tr>\n",
       "      <th>638</th>\n",
       "      <td>1</td>\n",
       "      <td>1</td>\n",
       "      <td>0.116932</td>\n",
       "      <td>0.883068</td>\n",
       "    </tr>\n",
       "    <tr>\n",
       "      <th>158</th>\n",
       "      <td>1</td>\n",
       "      <td>1</td>\n",
       "      <td>0.110037</td>\n",
       "      <td>0.889963</td>\n",
       "    </tr>\n",
       "    <tr>\n",
       "      <th>397</th>\n",
       "      <td>1</td>\n",
       "      <td>0</td>\n",
       "      <td>0.728579</td>\n",
       "      <td>0.271421</td>\n",
       "    </tr>\n",
       "  </tbody>\n",
       "</table>\n",
       "<p>300 rows × 4 columns</p>\n",
       "</div>"
      ],
      "text/plain": [
       "     y_test  predicciones_test  proba_default_test  proba_no_default_test\n",
       "190       0                  0            0.577682               0.422318\n",
       "104       1                  1            0.087780               0.912220\n",
       "295       0                  0            0.664891               0.335109\n",
       "12        1                  1            0.103134               0.896866\n",
       "87        0                  0            0.585747               0.414253\n",
       "..      ...                ...                 ...                    ...\n",
       "354       1                  1            0.068912               0.931088\n",
       "831       0                  0            0.553260               0.446740\n",
       "638       1                  1            0.116932               0.883068\n",
       "158       1                  1            0.110037               0.889963\n",
       "397       1                  0            0.728579               0.271421\n",
       "\n",
       "[300 rows x 4 columns]"
      ]
     },
     "execution_count": 38,
     "metadata": {},
     "output_type": "execute_result"
    }
   ],
   "source": [
    "df_test"
   ]
  },
  {
   "cell_type": "code",
   "execution_count": 39,
   "metadata": {},
   "outputs": [
    {
     "name": "stdout",
     "output_type": "stream",
     "text": [
      "count    300.000000\n",
      "mean       0.332254\n",
      "std        0.243199\n",
      "min        0.031862\n",
      "25%        0.116697\n",
      "50%        0.239204\n",
      "75%        0.521428\n",
      "max        0.916314\n",
      "Name: proba_default_test, dtype: float64\n"
     ]
    }
   ],
   "source": [
    "true_list = pd.DataFrame(y_test, columns = ['Risk'])\n",
    "test_pred_df = df_test.drop(columns = 'proba_no_default_test').reset_index(drop = True)\n",
    "print(test_pred_df['proba_default_test'].describe())"
   ]
  },
  {
   "cell_type": "code",
   "execution_count": 40,
   "metadata": {},
   "outputs": [
    {
     "data": {
      "text/html": [
       "<div>\n",
       "<style scoped>\n",
       "    .dataframe tbody tr th:only-of-type {\n",
       "        vertical-align: middle;\n",
       "    }\n",
       "\n",
       "    .dataframe tbody tr th {\n",
       "        vertical-align: top;\n",
       "    }\n",
       "\n",
       "    .dataframe thead th {\n",
       "        text-align: right;\n",
       "    }\n",
       "</style>\n",
       "<table border=\"1\" class=\"dataframe\">\n",
       "  <thead>\n",
       "    <tr style=\"text-align: right;\">\n",
       "      <th></th>\n",
       "      <th>y_test</th>\n",
       "      <th>predicciones_test</th>\n",
       "      <th>proba_default_test</th>\n",
       "    </tr>\n",
       "  </thead>\n",
       "  <tbody>\n",
       "    <tr>\n",
       "      <th>0</th>\n",
       "      <td>0</td>\n",
       "      <td>0</td>\n",
       "      <td>0.577682</td>\n",
       "    </tr>\n",
       "    <tr>\n",
       "      <th>1</th>\n",
       "      <td>1</td>\n",
       "      <td>1</td>\n",
       "      <td>0.087780</td>\n",
       "    </tr>\n",
       "    <tr>\n",
       "      <th>2</th>\n",
       "      <td>0</td>\n",
       "      <td>0</td>\n",
       "      <td>0.664891</td>\n",
       "    </tr>\n",
       "    <tr>\n",
       "      <th>3</th>\n",
       "      <td>1</td>\n",
       "      <td>1</td>\n",
       "      <td>0.103134</td>\n",
       "    </tr>\n",
       "    <tr>\n",
       "      <th>4</th>\n",
       "      <td>0</td>\n",
       "      <td>0</td>\n",
       "      <td>0.585747</td>\n",
       "    </tr>\n",
       "  </tbody>\n",
       "</table>\n",
       "</div>"
      ],
      "text/plain": [
       "   y_test  predicciones_test  proba_default_test\n",
       "0       0                  0            0.577682\n",
       "1       1                  1            0.087780\n",
       "2       0                  0            0.664891\n",
       "3       1                  1            0.103134\n",
       "4       0                  0            0.585747"
      ]
     },
     "execution_count": 40,
     "metadata": {},
     "output_type": "execute_result"
    }
   ],
   "source": [
    "test_pred_df.head()"
   ]
  },
  {
   "cell_type": "code",
   "execution_count": 41,
   "metadata": {},
   "outputs": [
    {
     "name": "stdout",
     "output_type": "stream",
     "text": [
      "1    255\n",
      "0     45\n",
      "Name: pred_loan_status, dtype: int64\n"
     ]
    }
   ],
   "source": [
    "# Umbral para una tasa de aceptación del 85 %\n",
    "threshold_85 = np.quantile(test_pred_df['proba_default_test'], 0.85)\n",
    "\n",
    "# Umbral de tasa de aceptación\n",
    "test_pred_df['pred_loan_status'] = test_pred_df['proba_default_test'].apply(lambda x: 0 if x >= threshold_85 else 1)\n",
    "\n",
    "# Recuentos del estado del préstamo después del umbral\n",
    "print(test_pred_df['pred_loan_status'].value_counts())"
   ]
  },
  {
   "cell_type": "code",
   "execution_count": 42,
   "metadata": {},
   "outputs": [
    {
     "data": {
      "image/png": "[encoded data removed]",
      "text/plain": [
       "<Figure size 432x288 with 1 Axes>"
      ]
     },
     "metadata": {
      "needs_background": "light"
     },
     "output_type": "display_data"
    }
   ],
   "source": [
    "# Histograma de las probabilidades previstas de incumplimiento\n",
    "plt.hist(test_pred_df['proba_default_test'], color = 'blue', bins = 40)\n",
    "\n",
    "# Línea de referencia al gráfico para el umbral\n",
    "plt.axvline(x = threshold_85, color = 'red')\n",
    "plt.show()"
   ]
  },
  {
   "cell_type": "code",
   "execution_count": 43,
   "metadata": {},
   "outputs": [
    {
     "data": {
      "text/html": [
       "<div>\n",
       "<style scoped>\n",
       "    .dataframe tbody tr th:only-of-type {\n",
       "        vertical-align: middle;\n",
       "    }\n",
       "\n",
       "    .dataframe tbody tr th {\n",
       "        vertical-align: top;\n",
       "    }\n",
       "\n",
       "    .dataframe thead th {\n",
       "        text-align: right;\n",
       "    }\n",
       "</style>\n",
       "<table border=\"1\" class=\"dataframe\">\n",
       "  <thead>\n",
       "    <tr style=\"text-align: right;\">\n",
       "      <th></th>\n",
       "      <th>y_test</th>\n",
       "      <th>predicciones_test</th>\n",
       "      <th>proba_default_test</th>\n",
       "      <th>pred_loan_status</th>\n",
       "    </tr>\n",
       "  </thead>\n",
       "  <tbody>\n",
       "    <tr>\n",
       "      <th>0</th>\n",
       "      <td>0</td>\n",
       "      <td>0</td>\n",
       "      <td>0.577682</td>\n",
       "      <td>1</td>\n",
       "    </tr>\n",
       "    <tr>\n",
       "      <th>1</th>\n",
       "      <td>1</td>\n",
       "      <td>1</td>\n",
       "      <td>0.087780</td>\n",
       "      <td>1</td>\n",
       "    </tr>\n",
       "    <tr>\n",
       "      <th>2</th>\n",
       "      <td>0</td>\n",
       "      <td>0</td>\n",
       "      <td>0.664891</td>\n",
       "      <td>0</td>\n",
       "    </tr>\n",
       "    <tr>\n",
       "      <th>3</th>\n",
       "      <td>1</td>\n",
       "      <td>1</td>\n",
       "      <td>0.103134</td>\n",
       "      <td>1</td>\n",
       "    </tr>\n",
       "    <tr>\n",
       "      <th>4</th>\n",
       "      <td>0</td>\n",
       "      <td>0</td>\n",
       "      <td>0.585747</td>\n",
       "      <td>1</td>\n",
       "    </tr>\n",
       "    <tr>\n",
       "      <th>...</th>\n",
       "      <td>...</td>\n",
       "      <td>...</td>\n",
       "      <td>...</td>\n",
       "      <td>...</td>\n",
       "    </tr>\n",
       "    <tr>\n",
       "      <th>295</th>\n",
       "      <td>1</td>\n",
       "      <td>1</td>\n",
       "      <td>0.068912</td>\n",
       "      <td>1</td>\n",
       "    </tr>\n",
       "    <tr>\n",
       "      <th>296</th>\n",
       "      <td>0</td>\n",
       "      <td>0</td>\n",
       "      <td>0.553260</td>\n",
       "      <td>1</td>\n",
       "    </tr>\n",
       "    <tr>\n",
       "      <th>297</th>\n",
       "      <td>1</td>\n",
       "      <td>1</td>\n",
       "      <td>0.116932</td>\n",
       "      <td>1</td>\n",
       "    </tr>\n",
       "    <tr>\n",
       "      <th>298</th>\n",
       "      <td>1</td>\n",
       "      <td>1</td>\n",
       "      <td>0.110037</td>\n",
       "      <td>1</td>\n",
       "    </tr>\n",
       "    <tr>\n",
       "      <th>299</th>\n",
       "      <td>1</td>\n",
       "      <td>0</td>\n",
       "      <td>0.728579</td>\n",
       "      <td>0</td>\n",
       "    </tr>\n",
       "  </tbody>\n",
       "</table>\n",
       "<p>300 rows × 4 columns</p>\n",
       "</div>"
      ],
      "text/plain": [
       "     y_test  predicciones_test  proba_default_test  pred_loan_status\n",
       "0         0                  0            0.577682                 1\n",
       "1         1                  1            0.087780                 1\n",
       "2         0                  0            0.664891                 0\n",
       "3         1                  1            0.103134                 1\n",
       "4         0                  0            0.585747                 1\n",
       "..      ...                ...                 ...               ...\n",
       "295       1                  1            0.068912                 1\n",
       "296       0                  0            0.553260                 1\n",
       "297       1                  1            0.116932                 1\n",
       "298       1                  1            0.110037                 1\n",
       "299       1                  0            0.728579                 0\n",
       "\n",
       "[300 rows x 4 columns]"
      ]
     },
     "execution_count": 43,
     "metadata": {},
     "output_type": "execute_result"
    }
   ],
   "source": [
    "test_pred_df"
   ]
  },
  {
   "cell_type": "code",
   "execution_count": 44,
   "metadata": {},
   "outputs": [
    {
     "name": "stdout",
     "output_type": "stream",
     "text": [
      "Aceptando el 85% de los Préstamos\n",
      "0.22745098039215683\n",
      "Aceptando todos los Préstamos\n",
      "0.29333333333333333\n"
     ]
    }
   ],
   "source": [
    "# Subconjunto de solo préstamos aceptados\n",
    "accepted_loans = test_pred_df[test_pred_df['pred_loan_status'] == 1]\n",
    "\n",
    "# Cálculo de la baja tasa\n",
    "print('Aceptando el 85% de los Préstamos')\n",
    "print(1 - (np.sum(accepted_loans['y_test']) / accepted_loans['y_test'].count()))\n",
    "\n",
    "print('Aceptando todos los Préstamos')\n",
    "print(1 - (np.sum(test_pred_df['y_test']) / test_pred_df['y_test'].count()))"
   ]
  },
  {
   "cell_type": "code",
   "execution_count": 45,
   "metadata": {},
   "outputs": [
    {
     "data": {
      "text/html": [
       "<div>\n",
       "<style scoped>\n",
       "    .dataframe tbody tr th:only-of-type {\n",
       "        vertical-align: middle;\n",
       "    }\n",
       "\n",
       "    .dataframe tbody tr th {\n",
       "        vertical-align: top;\n",
       "    }\n",
       "\n",
       "    .dataframe thead th {\n",
       "        text-align: right;\n",
       "    }\n",
       "</style>\n",
       "<table border=\"1\" class=\"dataframe\">\n",
       "  <thead>\n",
       "    <tr style=\"text-align: right;\">\n",
       "      <th></th>\n",
       "      <th>y_test</th>\n",
       "      <th>predicciones_test</th>\n",
       "      <th>proba_default_test</th>\n",
       "      <th>pred_loan_status</th>\n",
       "    </tr>\n",
       "  </thead>\n",
       "  <tbody>\n",
       "    <tr>\n",
       "      <th>0</th>\n",
       "      <td>0</td>\n",
       "      <td>0</td>\n",
       "      <td>0.577682</td>\n",
       "      <td>1</td>\n",
       "    </tr>\n",
       "    <tr>\n",
       "      <th>1</th>\n",
       "      <td>1</td>\n",
       "      <td>1</td>\n",
       "      <td>0.087780</td>\n",
       "      <td>1</td>\n",
       "    </tr>\n",
       "    <tr>\n",
       "      <th>3</th>\n",
       "      <td>1</td>\n",
       "      <td>1</td>\n",
       "      <td>0.103134</td>\n",
       "      <td>1</td>\n",
       "    </tr>\n",
       "    <tr>\n",
       "      <th>4</th>\n",
       "      <td>0</td>\n",
       "      <td>0</td>\n",
       "      <td>0.585747</td>\n",
       "      <td>1</td>\n",
       "    </tr>\n",
       "    <tr>\n",
       "      <th>5</th>\n",
       "      <td>1</td>\n",
       "      <td>1</td>\n",
       "      <td>0.148788</td>\n",
       "      <td>1</td>\n",
       "    </tr>\n",
       "    <tr>\n",
       "      <th>...</th>\n",
       "      <td>...</td>\n",
       "      <td>...</td>\n",
       "      <td>...</td>\n",
       "      <td>...</td>\n",
       "    </tr>\n",
       "    <tr>\n",
       "      <th>293</th>\n",
       "      <td>1</td>\n",
       "      <td>1</td>\n",
       "      <td>0.138084</td>\n",
       "      <td>1</td>\n",
       "    </tr>\n",
       "    <tr>\n",
       "      <th>295</th>\n",
       "      <td>1</td>\n",
       "      <td>1</td>\n",
       "      <td>0.068912</td>\n",
       "      <td>1</td>\n",
       "    </tr>\n",
       "    <tr>\n",
       "      <th>296</th>\n",
       "      <td>0</td>\n",
       "      <td>0</td>\n",
       "      <td>0.553260</td>\n",
       "      <td>1</td>\n",
       "    </tr>\n",
       "    <tr>\n",
       "      <th>297</th>\n",
       "      <td>1</td>\n",
       "      <td>1</td>\n",
       "      <td>0.116932</td>\n",
       "      <td>1</td>\n",
       "    </tr>\n",
       "    <tr>\n",
       "      <th>298</th>\n",
       "      <td>1</td>\n",
       "      <td>1</td>\n",
       "      <td>0.110037</td>\n",
       "      <td>1</td>\n",
       "    </tr>\n",
       "  </tbody>\n",
       "</table>\n",
       "<p>255 rows × 4 columns</p>\n",
       "</div>"
      ],
      "text/plain": [
       "     y_test  predicciones_test  proba_default_test  pred_loan_status\n",
       "0         0                  0            0.577682                 1\n",
       "1         1                  1            0.087780                 1\n",
       "3         1                  1            0.103134                 1\n",
       "4         0                  0            0.585747                 1\n",
       "5         1                  1            0.148788                 1\n",
       "..      ...                ...                 ...               ...\n",
       "293       1                  1            0.138084                 1\n",
       "295       1                  1            0.068912                 1\n",
       "296       0                  0            0.553260                 1\n",
       "297       1                  1            0.116932                 1\n",
       "298       1                  1            0.110037                 1\n",
       "\n",
       "[255 rows x 4 columns]"
      ]
     },
     "execution_count": 45,
     "metadata": {},
     "output_type": "execute_result"
    }
   ],
   "source": [
    "accepted_loans"
   ]
  },
  {
   "cell_type": "code",
   "execution_count": 46,
   "metadata": {},
   "outputs": [
    {
     "data": {
      "text/html": [
       "<div>\n",
       "<style scoped>\n",
       "    .dataframe tbody tr th:only-of-type {\n",
       "        vertical-align: middle;\n",
       "    }\n",
       "\n",
       "    .dataframe tbody tr th {\n",
       "        vertical-align: top;\n",
       "    }\n",
       "\n",
       "    .dataframe thead th {\n",
       "        text-align: right;\n",
       "    }\n",
       "</style>\n",
       "<table border=\"1\" class=\"dataframe\">\n",
       "  <thead>\n",
       "    <tr style=\"text-align: right;\">\n",
       "      <th></th>\n",
       "      <th>y_test</th>\n",
       "      <th>predicciones_test</th>\n",
       "      <th>proba_default_test</th>\n",
       "      <th>pred_loan_status_15</th>\n",
       "      <th>Credit amount</th>\n",
       "    </tr>\n",
       "  </thead>\n",
       "  <tbody>\n",
       "    <tr>\n",
       "      <th>0</th>\n",
       "      <td>0</td>\n",
       "      <td>0</td>\n",
       "      <td>0.577682</td>\n",
       "      <td>1</td>\n",
       "      <td>4591</td>\n",
       "    </tr>\n",
       "    <tr>\n",
       "      <th>1</th>\n",
       "      <td>1</td>\n",
       "      <td>1</td>\n",
       "      <td>0.087780</td>\n",
       "      <td>1</td>\n",
       "      <td>2445</td>\n",
       "    </tr>\n",
       "    <tr>\n",
       "      <th>2</th>\n",
       "      <td>0</td>\n",
       "      <td>0</td>\n",
       "      <td>0.664891</td>\n",
       "      <td>0</td>\n",
       "      <td>9960</td>\n",
       "    </tr>\n",
       "    <tr>\n",
       "      <th>3</th>\n",
       "      <td>1</td>\n",
       "      <td>1</td>\n",
       "      <td>0.103134</td>\n",
       "      <td>1</td>\n",
       "      <td>1567</td>\n",
       "    </tr>\n",
       "    <tr>\n",
       "      <th>4</th>\n",
       "      <td>0</td>\n",
       "      <td>0</td>\n",
       "      <td>0.585747</td>\n",
       "      <td>1</td>\n",
       "      <td>12612</td>\n",
       "    </tr>\n",
       "    <tr>\n",
       "      <th>...</th>\n",
       "      <td>...</td>\n",
       "      <td>...</td>\n",
       "      <td>...</td>\n",
       "      <td>...</td>\n",
       "      <td>...</td>\n",
       "    </tr>\n",
       "    <tr>\n",
       "      <th>295</th>\n",
       "      <td>1</td>\n",
       "      <td>1</td>\n",
       "      <td>0.068912</td>\n",
       "      <td>1</td>\n",
       "      <td>727</td>\n",
       "    </tr>\n",
       "    <tr>\n",
       "      <th>296</th>\n",
       "      <td>0</td>\n",
       "      <td>0</td>\n",
       "      <td>0.553260</td>\n",
       "      <td>1</td>\n",
       "      <td>1216</td>\n",
       "    </tr>\n",
       "    <tr>\n",
       "      <th>297</th>\n",
       "      <td>1</td>\n",
       "      <td>1</td>\n",
       "      <td>0.116932</td>\n",
       "      <td>1</td>\n",
       "      <td>1493</td>\n",
       "    </tr>\n",
       "    <tr>\n",
       "      <th>298</th>\n",
       "      <td>1</td>\n",
       "      <td>1</td>\n",
       "      <td>0.110037</td>\n",
       "      <td>1</td>\n",
       "      <td>3512</td>\n",
       "    </tr>\n",
       "    <tr>\n",
       "      <th>299</th>\n",
       "      <td>1</td>\n",
       "      <td>0</td>\n",
       "      <td>0.728579</td>\n",
       "      <td>0</td>\n",
       "      <td>2348</td>\n",
       "    </tr>\n",
       "  </tbody>\n",
       "</table>\n",
       "<p>300 rows × 5 columns</p>\n",
       "</div>"
      ],
      "text/plain": [
       "     y_test  predicciones_test  proba_default_test  pred_loan_status_15  \\\n",
       "0         0                  0            0.577682                    1   \n",
       "1         1                  1            0.087780                    1   \n",
       "2         0                  0            0.664891                    0   \n",
       "3         1                  1            0.103134                    1   \n",
       "4         0                  0            0.585747                    1   \n",
       "..      ...                ...                 ...                  ...   \n",
       "295       1                  1            0.068912                    1   \n",
       "296       0                  0            0.553260                    1   \n",
       "297       1                  1            0.116932                    1   \n",
       "298       1                  1            0.110037                    1   \n",
       "299       1                  0            0.728579                    0   \n",
       "\n",
       "     Credit amount  \n",
       "0             4591  \n",
       "1             2445  \n",
       "2             9960  \n",
       "3             1567  \n",
       "4            12612  \n",
       "..             ...  \n",
       "295            727  \n",
       "296           1216  \n",
       "297           1493  \n",
       "298           3512  \n",
       "299           2348  \n",
       "\n",
       "[300 rows x 5 columns]"
      ]
     },
     "execution_count": 46,
     "metadata": {},
     "output_type": "execute_result"
    }
   ],
   "source": [
    "test_pred_df = test_pred_df.rename(columns={'pred_loan_status':'pred_loan_status_15'}, inplace=False)\n",
    "test_pred_df['Credit amount'] = X_test['Credit amount'].reset_index(drop = True)\n",
    "test_pred_df"
   ]
  },
  {
   "cell_type": "code",
   "execution_count": 47,
   "metadata": {},
   "outputs": [
    {
     "name": "stdout",
     "output_type": "stream",
     "text": [
      "count      300.000000\n",
      "mean      3234.290000\n",
      "std       2771.654104\n",
      "min        276.000000\n",
      "25%       1380.000000\n",
      "50%       2356.500000\n",
      "75%       3817.750000\n",
      "max      15653.000000\n",
      "Name: Credit amount, dtype: float64\n"
     ]
    }
   ],
   "source": [
    "print(test_pred_df['Credit amount'].describe())"
   ]
  },
  {
   "cell_type": "code",
   "execution_count": 48,
   "metadata": {},
   "outputs": [
    {
     "name": "stdout",
     "output_type": "stream",
     "text": [
      "pred_loan_status_15          0           1\n",
      "y_test                                    \n",
      "0                   $97,028.70 $187,588.82\n",
      "1                   $48,514.35 $637,155.13\n"
     ]
    }
   ],
   "source": [
    "# Almacenar el monto promedio del préstamo\n",
    "avg_loan = np.mean(test_pred_df['Credit amount'])\n",
    "\n",
    "# Formato de moneda y tabulación cruzada\n",
    "pd.options.display.float_format = '${:,.2f}'.format\n",
    "print(pd.crosstab(test_pred_df['y_test'], \n",
    "                  test_pred_df['pred_loan_status_15']).apply(lambda x: x * avg_loan, axis = 0))"
   ]
  },
  {
   "cell_type": "code",
   "execution_count": 49,
   "metadata": {},
   "outputs": [],
   "source": [
    "#la morosidad del 21%  implica unos 42,045 dolares"
   ]
  },
  {
   "cell_type": "code",
   "execution_count": 50,
   "metadata": {},
   "outputs": [],
   "source": [
    "# Matriz de tazas de aceptación\n",
    "accept_rates = [1.0,\n",
    " 0.95,\n",
    " 0.9,\n",
    " 0.85,\n",
    " 0.8,\n",
    " 0.75,\n",
    " 0.7,\n",
    " 0.65,\n",
    " 0.6,\n",
    " 0.55,\n",
    " 0.5,\n",
    " 0.45,\n",
    " 0.4,\n",
    " 0.35,\n",
    " 0.3,\n",
    " 0.25,\n",
    " 0.2,\n",
    " 0.15,\n",
    " 0.1,\n",
    " 0.05]"
   ]
  },
  {
   "cell_type": "code",
   "execution_count": 51,
   "metadata": {},
   "outputs": [
    {
     "data": {
      "text/html": [
       "<div>\n",
       "<style scoped>\n",
       "    .dataframe tbody tr th:only-of-type {\n",
       "        vertical-align: middle;\n",
       "    }\n",
       "\n",
       "    .dataframe tbody tr th {\n",
       "        vertical-align: top;\n",
       "    }\n",
       "\n",
       "    .dataframe thead th {\n",
       "        text-align: right;\n",
       "    }\n",
       "</style>\n",
       "<table border=\"1\" class=\"dataframe\">\n",
       "  <thead>\n",
       "    <tr style=\"text-align: right;\">\n",
       "      <th></th>\n",
       "      <th>y_test</th>\n",
       "      <th>predicciones_test</th>\n",
       "      <th>proba_default_test</th>\n",
       "      <th>pred_loan_status</th>\n",
       "      <th>Credit amount</th>\n",
       "    </tr>\n",
       "  </thead>\n",
       "  <tbody>\n",
       "    <tr>\n",
       "      <th>0</th>\n",
       "      <td>0</td>\n",
       "      <td>0</td>\n",
       "      <td>$0.58</td>\n",
       "      <td>1</td>\n",
       "      <td>4591</td>\n",
       "    </tr>\n",
       "    <tr>\n",
       "      <th>1</th>\n",
       "      <td>1</td>\n",
       "      <td>1</td>\n",
       "      <td>$0.09</td>\n",
       "      <td>1</td>\n",
       "      <td>2445</td>\n",
       "    </tr>\n",
       "    <tr>\n",
       "      <th>2</th>\n",
       "      <td>0</td>\n",
       "      <td>0</td>\n",
       "      <td>$0.66</td>\n",
       "      <td>0</td>\n",
       "      <td>9960</td>\n",
       "    </tr>\n",
       "    <tr>\n",
       "      <th>3</th>\n",
       "      <td>1</td>\n",
       "      <td>1</td>\n",
       "      <td>$0.10</td>\n",
       "      <td>1</td>\n",
       "      <td>1567</td>\n",
       "    </tr>\n",
       "    <tr>\n",
       "      <th>4</th>\n",
       "      <td>0</td>\n",
       "      <td>0</td>\n",
       "      <td>$0.59</td>\n",
       "      <td>1</td>\n",
       "      <td>12612</td>\n",
       "    </tr>\n",
       "    <tr>\n",
       "      <th>...</th>\n",
       "      <td>...</td>\n",
       "      <td>...</td>\n",
       "      <td>...</td>\n",
       "      <td>...</td>\n",
       "      <td>...</td>\n",
       "    </tr>\n",
       "    <tr>\n",
       "      <th>295</th>\n",
       "      <td>1</td>\n",
       "      <td>1</td>\n",
       "      <td>$0.07</td>\n",
       "      <td>1</td>\n",
       "      <td>727</td>\n",
       "    </tr>\n",
       "    <tr>\n",
       "      <th>296</th>\n",
       "      <td>0</td>\n",
       "      <td>0</td>\n",
       "      <td>$0.55</td>\n",
       "      <td>1</td>\n",
       "      <td>1216</td>\n",
       "    </tr>\n",
       "    <tr>\n",
       "      <th>297</th>\n",
       "      <td>1</td>\n",
       "      <td>1</td>\n",
       "      <td>$0.12</td>\n",
       "      <td>1</td>\n",
       "      <td>1493</td>\n",
       "    </tr>\n",
       "    <tr>\n",
       "      <th>298</th>\n",
       "      <td>1</td>\n",
       "      <td>1</td>\n",
       "      <td>$0.11</td>\n",
       "      <td>1</td>\n",
       "      <td>3512</td>\n",
       "    </tr>\n",
       "    <tr>\n",
       "      <th>299</th>\n",
       "      <td>1</td>\n",
       "      <td>0</td>\n",
       "      <td>$0.73</td>\n",
       "      <td>0</td>\n",
       "      <td>2348</td>\n",
       "    </tr>\n",
       "  </tbody>\n",
       "</table>\n",
       "<p>300 rows × 5 columns</p>\n",
       "</div>"
      ],
      "text/plain": [
       "     y_test  predicciones_test  proba_default_test  pred_loan_status  \\\n",
       "0         0                  0               $0.58                 1   \n",
       "1         1                  1               $0.09                 1   \n",
       "2         0                  0               $0.66                 0   \n",
       "3         1                  1               $0.10                 1   \n",
       "4         0                  0               $0.59                 1   \n",
       "..      ...                ...                 ...               ...   \n",
       "295       1                  1               $0.07                 1   \n",
       "296       0                  0               $0.55                 1   \n",
       "297       1                  1               $0.12                 1   \n",
       "298       1                  1               $0.11                 1   \n",
       "299       1                  0               $0.73                 0   \n",
       "\n",
       "     Credit amount  \n",
       "0             4591  \n",
       "1             2445  \n",
       "2             9960  \n",
       "3             1567  \n",
       "4            12612  \n",
       "..             ...  \n",
       "295            727  \n",
       "296           1216  \n",
       "297           1493  \n",
       "298           3512  \n",
       "299           2348  \n",
       "\n",
       "[300 rows x 5 columns]"
      ]
     },
     "execution_count": 51,
     "metadata": {},
     "output_type": "execute_result"
    }
   ],
   "source": [
    "# Matriz de umbrales\n",
    "thresholds = []\n",
    "\n",
    "# Matriz de bajas tazas de aceptación\n",
    "bad_rates = []\n",
    "\n",
    "test_pred_df = test_pred_df.rename(columns={'pred_loan_status_15':'pred_loan_status'}, inplace=False)\n",
    "test_pred_df"
   ]
  },
  {
   "cell_type": "code",
   "execution_count": 52,
   "metadata": {},
   "outputs": [],
   "source": [
    "# Prestamos aceptados\n",
    "accepted_loans = accepted_loans[0:0]\n",
    "\n",
    "# Número de prestamos aceptados\n",
    "num_accepted_loans = []"
   ]
  },
  {
   "cell_type": "code",
   "execution_count": 53,
   "metadata": {},
   "outputs": [],
   "source": [
    "# Matrices de la tabla de estrategia con un bucle for\n",
    "for rate in accept_rates:\n",
    "    # Umbral para la tasa de aceptación\n",
    "    thresh = np.quantile(df_test['proba_default_test'], rate).round(3)\n",
    "    # Agregación del valor del umbral a la lista de umbrales\n",
    "    thresholds.append(np.quantile(df_test['proba_default_test'], rate).round(3))\n",
    "    # Reasignación del valor del estado del préstamo usando el umbral\n",
    "    test_pred_df['pred_loan_status'] = test_pred_df['proba_default_test'].apply(lambda x: 0 if x > thresh else 1)\n",
    "    # Conjunto de préstamos aceptados usando esta tasa de aceptación\n",
    "    accepted_loans = test_pred_df[test_pred_df['pred_loan_status'] == 1]\n",
    "    # Calculo y asignación de la tasa baja usando la tasa de aceptación\n",
    "    bad_rates.append(1 - (np.sum((accepted_loans['y_test']) / accepted_loans['y_test'].count())).round(3))\n",
    "    # Numero de prestamos aceptados\n",
    "    num_accepted_loans.append(len(test_pred_df[test_pred_df['proba_default_test']<np.quantile(test_pred_df['proba_default_test'], rate).round(3)]))"
   ]
  },
  {
   "cell_type": "code",
   "execution_count": 54,
   "metadata": {
    "scrolled": true
   },
   "outputs": [
    {
     "data": {
      "text/html": [
       "<div>\n",
       "<style scoped>\n",
       "    .dataframe tbody tr th:only-of-type {\n",
       "        vertical-align: middle;\n",
       "    }\n",
       "\n",
       "    .dataframe tbody tr th {\n",
       "        vertical-align: top;\n",
       "    }\n",
       "\n",
       "    .dataframe thead th {\n",
       "        text-align: right;\n",
       "    }\n",
       "</style>\n",
       "<table border=\"1\" class=\"dataframe\">\n",
       "  <thead>\n",
       "    <tr style=\"text-align: right;\">\n",
       "      <th></th>\n",
       "      <th>Acceptance Rate</th>\n",
       "      <th>Threshold</th>\n",
       "      <th>Bad Rate</th>\n",
       "    </tr>\n",
       "  </thead>\n",
       "  <tbody>\n",
       "    <tr>\n",
       "      <th>0</th>\n",
       "      <td>$1.00</td>\n",
       "      <td>$0.92</td>\n",
       "      <td>$0.29</td>\n",
       "    </tr>\n",
       "    <tr>\n",
       "      <th>1</th>\n",
       "      <td>$0.95</td>\n",
       "      <td>$0.79</td>\n",
       "      <td>$0.26</td>\n",
       "    </tr>\n",
       "    <tr>\n",
       "      <th>2</th>\n",
       "      <td>$0.90</td>\n",
       "      <td>$0.69</td>\n",
       "      <td>$0.24</td>\n",
       "    </tr>\n",
       "    <tr>\n",
       "      <th>3</th>\n",
       "      <td>$0.85</td>\n",
       "      <td>$0.60</td>\n",
       "      <td>$0.23</td>\n",
       "    </tr>\n",
       "    <tr>\n",
       "      <th>4</th>\n",
       "      <td>$0.80</td>\n",
       "      <td>$0.57</td>\n",
       "      <td>$0.20</td>\n",
       "    </tr>\n",
       "    <tr>\n",
       "      <th>5</th>\n",
       "      <td>$0.75</td>\n",
       "      <td>$0.52</td>\n",
       "      <td>$0.18</td>\n",
       "    </tr>\n",
       "    <tr>\n",
       "      <th>6</th>\n",
       "      <td>$0.70</td>\n",
       "      <td>$0.48</td>\n",
       "      <td>$0.18</td>\n",
       "    </tr>\n",
       "    <tr>\n",
       "      <th>7</th>\n",
       "      <td>$0.65</td>\n",
       "      <td>$0.45</td>\n",
       "      <td>$0.17</td>\n",
       "    </tr>\n",
       "    <tr>\n",
       "      <th>8</th>\n",
       "      <td>$0.60</td>\n",
       "      <td>$0.39</td>\n",
       "      <td>$0.15</td>\n",
       "    </tr>\n",
       "    <tr>\n",
       "      <th>9</th>\n",
       "      <td>$0.55</td>\n",
       "      <td>$0.31</td>\n",
       "      <td>$0.12</td>\n",
       "    </tr>\n",
       "    <tr>\n",
       "      <th>10</th>\n",
       "      <td>$0.50</td>\n",
       "      <td>$0.24</td>\n",
       "      <td>$0.10</td>\n",
       "    </tr>\n",
       "    <tr>\n",
       "      <th>11</th>\n",
       "      <td>$0.45</td>\n",
       "      <td>$0.20</td>\n",
       "      <td>$0.10</td>\n",
       "    </tr>\n",
       "    <tr>\n",
       "      <th>12</th>\n",
       "      <td>$0.40</td>\n",
       "      <td>$0.18</td>\n",
       "      <td>$0.11</td>\n",
       "    </tr>\n",
       "    <tr>\n",
       "      <th>13</th>\n",
       "      <td>$0.35</td>\n",
       "      <td>$0.15</td>\n",
       "      <td>$0.12</td>\n",
       "    </tr>\n",
       "    <tr>\n",
       "      <th>14</th>\n",
       "      <td>$0.30</td>\n",
       "      <td>$0.13</td>\n",
       "      <td>$0.12</td>\n",
       "    </tr>\n",
       "    <tr>\n",
       "      <th>15</th>\n",
       "      <td>$0.25</td>\n",
       "      <td>$0.12</td>\n",
       "      <td>$0.13</td>\n",
       "    </tr>\n",
       "    <tr>\n",
       "      <th>16</th>\n",
       "      <td>$0.20</td>\n",
       "      <td>$0.10</td>\n",
       "      <td>$0.13</td>\n",
       "    </tr>\n",
       "    <tr>\n",
       "      <th>17</th>\n",
       "      <td>$0.15</td>\n",
       "      <td>$0.09</td>\n",
       "      <td>$0.11</td>\n",
       "    </tr>\n",
       "    <tr>\n",
       "      <th>18</th>\n",
       "      <td>$0.10</td>\n",
       "      <td>$0.07</td>\n",
       "      <td>$0.16</td>\n",
       "    </tr>\n",
       "    <tr>\n",
       "      <th>19</th>\n",
       "      <td>$0.05</td>\n",
       "      <td>$0.06</td>\n",
       "      <td>$0.19</td>\n",
       "    </tr>\n",
       "  </tbody>\n",
       "</table>\n",
       "</div>"
      ],
      "text/plain": [
       "    Acceptance Rate  Threshold  Bad Rate\n",
       "0             $1.00      $0.92     $0.29\n",
       "1             $0.95      $0.79     $0.26\n",
       "2             $0.90      $0.69     $0.24\n",
       "3             $0.85      $0.60     $0.23\n",
       "4             $0.80      $0.57     $0.20\n",
       "5             $0.75      $0.52     $0.18\n",
       "6             $0.70      $0.48     $0.18\n",
       "7             $0.65      $0.45     $0.17\n",
       "8             $0.60      $0.39     $0.15\n",
       "9             $0.55      $0.31     $0.12\n",
       "10            $0.50      $0.24     $0.10\n",
       "11            $0.45      $0.20     $0.10\n",
       "12            $0.40      $0.18     $0.11\n",
       "13            $0.35      $0.15     $0.12\n",
       "14            $0.30      $0.13     $0.12\n",
       "15            $0.25      $0.12     $0.13\n",
       "16            $0.20      $0.10     $0.13\n",
       "17            $0.15      $0.09     $0.11\n",
       "18            $0.10      $0.07     $0.16\n",
       "19            $0.05      $0.06     $0.19"
      ]
     },
     "execution_count": 54,
     "metadata": {},
     "output_type": "execute_result"
    }
   ],
   "source": [
    "strat_df = pd.DataFrame(zip(accept_rates, thresholds, bad_rates), columns = ['Acceptance Rate','Threshold','Bad Rate'])\n",
    "strat_df"
   ]
  },
  {
   "cell_type": "code",
   "execution_count": 55,
   "metadata": {},
   "outputs": [
    {
     "data": {
      "image/png": "[encoded data removed]",
      "text/plain": [
       "<Figure size 432x288 with 1 Axes>"
      ]
     },
     "metadata": {
      "needs_background": "light"
     },
     "output_type": "display_data"
    }
   ],
   "source": [
    "# Diagrama de caja de la tabla de estrategia comercial\n",
    "strat_df.boxplot()\n",
    "plt.show()"
   ]
  },
  {
   "cell_type": "code",
   "execution_count": 56,
   "metadata": {},
   "outputs": [
    {
     "data": {
      "image/png": "[encoded data removed]",
      "text/plain": [
       "<Figure size 432x288 with 1 Axes>"
      ]
     },
     "metadata": {
      "needs_background": "light"
     },
     "output_type": "display_data"
    }
   ],
   "source": [
    "# Gráfico de la curva de estrategia\n",
    "plt.plot(strat_df['Acceptance Rate'], strat_df['Bad Rate'])\n",
    "plt.xlabel('Acceptance Rate')\n",
    "plt.ylabel('Bad Rate')\n",
    "plt.title('Acceptance and Bad Rates')\n",
    "plt.show()"
   ]
  },
  {
   "cell_type": "code",
   "execution_count": 57,
   "metadata": {},
   "outputs": [],
   "source": [
    "# Monto promedio del prestamo\n",
    "mean_loan_amnt = np.mean(test_pred_df['Credit amount'])"
   ]
  },
  {
   "cell_type": "code",
   "execution_count": 58,
   "metadata": {},
   "outputs": [],
   "source": [
    "strat_df = pd.DataFrame()\n",
    "\n",
    "strat_df['Acceptance Rate'] = accept_rates\n",
    "strat_df['Thresholds'] = thresholds\n",
    "strat_df['Bad Rate'] = bad_rates\n",
    "strat_df['Num Accepted Loans'] = num_accepted_loans\n",
    "strat_df['Avg Loan Amnt'] = mean_loan_amnt"
   ]
  },
  {
   "cell_type": "code",
   "execution_count": 59,
   "metadata": {},
   "outputs": [],
   "source": [
    "# El valor neto estimado de los no impagos menos los impagos\n",
    "estimated_value = ((strat_df['Num Accepted Loans'] * (1 - strat_df['Bad Rate'])) * strat_df['Avg Loan Amnt']) - (strat_df['Num Accepted Loans'] * strat_df['Bad Rate'] * strat_df['Avg Loan Amnt'])"
   ]
  },
  {
   "cell_type": "code",
   "execution_count": 60,
   "metadata": {},
   "outputs": [],
   "source": [
    "# Marco de datos de la tabla de estrategia comercial con el valor neto\n",
    "strat_df['Estimated Value'] = estimated_value"
   ]
  },
  {
   "cell_type": "code",
   "execution_count": 61,
   "metadata": {},
   "outputs": [
    {
     "data": {
      "image/png": "[encoded data removed]",
      "text/plain": [
       "<Figure size 432x288 with 1 Axes>"
      ]
     },
     "metadata": {
      "needs_background": "light"
     },
     "output_type": "display_data"
    }
   ],
   "source": [
    "# Gráfico con los valores estimados\n",
    "plt.plot(strat_df['Acceptance Rate'],strat_df['Estimated Value'])\n",
    "plt.title('Estimated Value by Acceptance Rate')\n",
    "plt.xlabel('Acceptance Rate')\n",
    "plt.ylabel('Estimated Value')\n",
    "plt.show()"
   ]
  },
  {
   "cell_type": "code",
   "execution_count": 62,
   "metadata": {},
   "outputs": [
    {
     "name": "stdout",
     "output_type": "stream",
     "text": [
      "   Acceptance Rate  Thresholds  Bad Rate  Num Accepted Loans  Avg Loan Amnt  \\\n",
      "4            $0.80       $0.57     $0.20                 240      $3,234.29   \n",
      "\n",
      "   Estimated Value  \n",
      "4      $465,737.76  \n"
     ]
    }
   ],
   "source": [
    "# Fila con el valor máximo estimado\n",
    "print(strat_df.loc[strat_df['Estimated Value'] == np.max(strat_df['Estimated Value'])])"
   ]
  },
  {
   "cell_type": "code",
   "execution_count": 63,
   "metadata": {},
   "outputs": [
    {
     "data": {
      "text/html": [
       "<div>\n",
       "<style scoped>\n",
       "    .dataframe tbody tr th:only-of-type {\n",
       "        vertical-align: middle;\n",
       "    }\n",
       "\n",
       "    .dataframe tbody tr th {\n",
       "        vertical-align: top;\n",
       "    }\n",
       "\n",
       "    .dataframe thead th {\n",
       "        text-align: right;\n",
       "    }\n",
       "</style>\n",
       "<table border=\"1\" class=\"dataframe\">\n",
       "  <thead>\n",
       "    <tr style=\"text-align: right;\">\n",
       "      <th></th>\n",
       "      <th>y_test</th>\n",
       "      <th>predicciones_test</th>\n",
       "      <th>proba_default_test</th>\n",
       "      <th>loss_given_default</th>\n",
       "      <th>Credit amount</th>\n",
       "    </tr>\n",
       "  </thead>\n",
       "  <tbody>\n",
       "    <tr>\n",
       "      <th>0</th>\n",
       "      <td>0</td>\n",
       "      <td>0</td>\n",
       "      <td>$0.58</td>\n",
       "      <td>1</td>\n",
       "      <td>4591</td>\n",
       "    </tr>\n",
       "    <tr>\n",
       "      <th>1</th>\n",
       "      <td>1</td>\n",
       "      <td>1</td>\n",
       "      <td>$0.09</td>\n",
       "      <td>1</td>\n",
       "      <td>2445</td>\n",
       "    </tr>\n",
       "    <tr>\n",
       "      <th>2</th>\n",
       "      <td>0</td>\n",
       "      <td>0</td>\n",
       "      <td>$0.66</td>\n",
       "      <td>1</td>\n",
       "      <td>9960</td>\n",
       "    </tr>\n",
       "    <tr>\n",
       "      <th>3</th>\n",
       "      <td>1</td>\n",
       "      <td>1</td>\n",
       "      <td>$0.10</td>\n",
       "      <td>1</td>\n",
       "      <td>1567</td>\n",
       "    </tr>\n",
       "    <tr>\n",
       "      <th>4</th>\n",
       "      <td>0</td>\n",
       "      <td>0</td>\n",
       "      <td>$0.59</td>\n",
       "      <td>1</td>\n",
       "      <td>12612</td>\n",
       "    </tr>\n",
       "    <tr>\n",
       "      <th>...</th>\n",
       "      <td>...</td>\n",
       "      <td>...</td>\n",
       "      <td>...</td>\n",
       "      <td>...</td>\n",
       "      <td>...</td>\n",
       "    </tr>\n",
       "    <tr>\n",
       "      <th>295</th>\n",
       "      <td>1</td>\n",
       "      <td>1</td>\n",
       "      <td>$0.07</td>\n",
       "      <td>1</td>\n",
       "      <td>727</td>\n",
       "    </tr>\n",
       "    <tr>\n",
       "      <th>296</th>\n",
       "      <td>0</td>\n",
       "      <td>0</td>\n",
       "      <td>$0.55</td>\n",
       "      <td>1</td>\n",
       "      <td>1216</td>\n",
       "    </tr>\n",
       "    <tr>\n",
       "      <th>297</th>\n",
       "      <td>1</td>\n",
       "      <td>1</td>\n",
       "      <td>$0.12</td>\n",
       "      <td>1</td>\n",
       "      <td>1493</td>\n",
       "    </tr>\n",
       "    <tr>\n",
       "      <th>298</th>\n",
       "      <td>1</td>\n",
       "      <td>1</td>\n",
       "      <td>$0.11</td>\n",
       "      <td>1</td>\n",
       "      <td>3512</td>\n",
       "    </tr>\n",
       "    <tr>\n",
       "      <th>299</th>\n",
       "      <td>1</td>\n",
       "      <td>0</td>\n",
       "      <td>$0.73</td>\n",
       "      <td>1</td>\n",
       "      <td>2348</td>\n",
       "    </tr>\n",
       "  </tbody>\n",
       "</table>\n",
       "<p>300 rows × 5 columns</p>\n",
       "</div>"
      ],
      "text/plain": [
       "     y_test  predicciones_test  proba_default_test  loss_given_default  \\\n",
       "0         0                  0               $0.58                   1   \n",
       "1         1                  1               $0.09                   1   \n",
       "2         0                  0               $0.66                   1   \n",
       "3         1                  1               $0.10                   1   \n",
       "4         0                  0               $0.59                   1   \n",
       "..      ...                ...                 ...                 ...   \n",
       "295       1                  1               $0.07                   1   \n",
       "296       0                  0               $0.55                   1   \n",
       "297       1                  1               $0.12                   1   \n",
       "298       1                  1               $0.11                   1   \n",
       "299       1                  0               $0.73                   1   \n",
       "\n",
       "     Credit amount  \n",
       "0             4591  \n",
       "1             2445  \n",
       "2             9960  \n",
       "3             1567  \n",
       "4            12612  \n",
       "..             ...  \n",
       "295            727  \n",
       "296           1216  \n",
       "297           1493  \n",
       "298           3512  \n",
       "299           2348  \n",
       "\n",
       "[300 rows x 5 columns]"
      ]
     },
     "execution_count": 63,
     "metadata": {},
     "output_type": "execute_result"
    }
   ],
   "source": [
    "# Suposición de que la exposición es el valor total del préstamo y que la pérdida en caso de incumplimiento es del 100 %.\n",
    "test_pred_df['pred_loan_status'] = 1\n",
    "test_pred_df = test_pred_df.rename(columns={'pred_loan_status':'loss_given_default'}, inplace=False)\n",
    "test_pred_df"
   ]
  },
  {
   "cell_type": "code",
   "execution_count": 64,
   "metadata": {},
   "outputs": [
    {
     "name": "stdout",
     "output_type": "stream",
     "text": [
      "Total expected loss:  $410,343.14\n"
     ]
    }
   ],
   "source": [
    "# Pérdida esperada del banco\n",
    "test_pred_df['expected_loss'] = test_pred_df['proba_default_test'] * test_pred_df['loss_given_default'] * test_pred_df['Credit amount']\n",
    "\n",
    "# Pérdida total esperada con dos decimales\n",
    "tot_exp_loss = round(np.sum(test_pred_df['expected_loss']),2)\n",
    "\n",
    "# Pérdida total esperada\n",
    "print('Total expected loss: ', '${:,.2f}'.format(tot_exp_loss))"
   ]
  },
  {
   "cell_type": "code",
   "execution_count": 65,
   "metadata": {},
   "outputs": [
    {
     "data": {
      "text/plain": [
       "970287"
      ]
     },
     "execution_count": 65,
     "metadata": {},
     "output_type": "execute_result"
    }
   ],
   "source": [
    "sum(test_pred_df['Credit amount'])"
   ]
  },
  {
   "cell_type": "code",
   "execution_count": null,
   "metadata": {},
   "outputs": [],
   "source": []
  }
 ],
 "metadata": {
  "kernelspec": {
   "display_name": "Python 3",
   "language": "python",
   "name": "python3"
  },
  "language_info": {
   "codemirror_mode": {
    "name": "ipython",
    "version": 3
   },
   "file_extension": ".py",
   "mimetype": "text/x-python",
   "name": "python",
   "nbconvert_exporter": "python",
   "pygments_lexer": "ipython3",
   "version": "3.8.5"
  }
 },
 "nbformat": 4,
 "nbformat_minor": 5
}
